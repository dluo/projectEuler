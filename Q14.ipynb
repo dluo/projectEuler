{
 "cells": [
  {
   "cell_type": "code",
   "execution_count": 6,
   "metadata": {
    "collapsed": false
   },
   "outputs": [
    {
     "name": "stdout",
     "output_type": "stream",
     "text": [
      "837799\n",
      "525\n"
     ]
    }
   ],
   "source": [
    "# dp soln\n",
    "\n",
    "lim = 999999\n",
    "\n",
    "terms = [0]*(lim+1)\n",
    "terms[1] = 1\n",
    "maxChain = 0\n",
    "maxStart = 1\n",
    "\n",
    "for num in range (2, 999999):\n",
    "    \n",
    "    origNum = num\n",
    "    chain = 0\n",
    "    while (num >= origNum):\n",
    "        if num%2 == 0:\n",
    "            num = num /2\n",
    "        else:\n",
    "            num = 3*num + 1\n",
    "        \n",
    "        chain+=1\n",
    "    \n",
    "    totalChain = terms[num] + chain\n",
    "    terms[origNum] = totalChain\n",
    "    \n",
    "    if totalChain > maxChain:\n",
    "        maxChain = totalChain\n",
    "        maxStart = origNum\n",
    "\n",
    "print(maxStart)\n",
    "print(maxChain)"
   ]
  }
 ],
 "metadata": {
  "anaconda-cloud": {},
  "kernelspec": {
   "display_name": "Python [default]",
   "language": "python",
   "name": "python2"
  },
  "language_info": {
   "codemirror_mode": {
    "name": "ipython",
    "version": 2
   },
   "file_extension": ".py",
   "mimetype": "text/x-python",
   "name": "python",
   "nbconvert_exporter": "python",
   "pygments_lexer": "ipython2",
   "version": "2.7.12"
  }
 },
 "nbformat": 4,
 "nbformat_minor": 1
}
